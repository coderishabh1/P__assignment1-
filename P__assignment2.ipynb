{
 "cells": [
  {
   "cell_type": "code",
   "execution_count": 2,
   "id": "31112b5f",
   "metadata": {},
   "outputs": [
    {
     "name": "stdout",
     "output_type": "stream",
     "text": [
      "1\n",
      "1 in miles is 0.621371\n"
     ]
    }
   ],
   "source": [
    "#Ans \n",
    "kilometer= int(input())\n",
    "print(f'{kilometer} kilometer in miles is:',0.621371*kilometer)"
   ]
  },
  {
   "cell_type": "code",
   "execution_count": 4,
   "id": "2c675423",
   "metadata": {},
   "outputs": [
    {
     "name": "stdout",
     "output_type": "stream",
     "text": [
      "1\n",
      "1 celsius in Fahrenheit is 0.621371\n"
     ]
    }
   ],
   "source": [
    "#Ans\n",
    "celsius= int(input())\n",
    "print(f'{celsius} celsius in Fahrenheit is:',0.621371*kilometer)"
   ]
  },
  {
   "cell_type": "code",
   "execution_count": null,
   "id": "75c1a374",
   "metadata": {},
   "outputs": [],
   "source": [
    "#Ans \n",
    "import calendar\n",
    " \n",
    "yy = int(input())\n",
    "mm = int(input())\n",
    " \n",
    "print(calendar.month(yy, mm))"
   ]
  },
  {
   "cell_type": "code",
   "execution_count": null,
   "id": "957fc4f9",
   "metadata": {},
   "outputs": [],
   "source": [
    "#Ans \n",
    "#example eqa ax**2 + bx**+c\n",
    "a= int(input ())\n",
    "b= int(input ())\n",
    "b=-b\n",
    "c= int(input ())\n",
    "z= (b*b-4*a*c)**(.5)\n",
    "root1=((b) +z )/(2*a)\n",
    "root2=((b) -z )/(2*a)\n",
    "print(root1)\n",
    "print(root2)"
   ]
  },
  {
   "cell_type": "code",
   "execution_count": null,
   "id": "61e3cb25",
   "metadata": {},
   "outputs": [],
   "source": [
    "#Ans\n",
    "a= int(input())\n",
    "b=int(input())\n",
    "a,b=b,a\n",
    "print(a)\n",
    "print(b)"
   ]
  },
  {
   "cell_type": "code",
   "execution_count": null,
   "id": "85caf1ea",
   "metadata": {},
   "outputs": [],
   "source": []
  }
 ],
 "metadata": {
  "kernelspec": {
   "display_name": "Python 3 (ipykernel)",
   "language": "python",
   "name": "python3"
  },
  "language_info": {
   "codemirror_mode": {
    "name": "ipython",
    "version": 3
   },
   "file_extension": ".py",
   "mimetype": "text/x-python",
   "name": "python",
   "nbconvert_exporter": "python",
   "pygments_lexer": "ipython3",
   "version": "3.9.12"
  }
 },
 "nbformat": 4,
 "nbformat_minor": 5
}
